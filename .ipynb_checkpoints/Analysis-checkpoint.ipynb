{
 "cells": [
  {
   "cell_type": "code",
   "execution_count": 1,
   "metadata": {},
   "outputs": [
    {
     "name": "stderr",
     "output_type": "stream",
     "text": [
      "/usr/local/lib/python3.5/dist-packages/pandas/core/computation/__init__.py:18: UserWarning: The installed version of numexpr 2.4.3 is not supported in pandas and will be not be used\n",
      "The minimum supported version is 2.4.6\n",
      "\n",
      "  ver=ver, min_ver=_MIN_NUMEXPR_VERSION), UserWarning)\n"
     ]
    }
   ],
   "source": [
    "import pandas as pd\n",
    "import numpy as np\n",
    "import pickle\n",
    "import gzip"
   ]
  },
  {
   "cell_type": "code",
   "execution_count": 2,
   "metadata": {
    "collapsed": true
   },
   "outputs": [],
   "source": [
    "avg_consump=0.459\n",
    "Years=['2010','2011','2012']"
   ]
  },
  {
   "cell_type": "code",
   "execution_count": 3,
   "metadata": {
    "collapsed": true
   },
   "outputs": [],
   "source": [
    "from helper.data_processing import *\n",
    "from helper.calc import *"
   ]
  },
  {
   "cell_type": "code",
   "execution_count": 4,
   "metadata": {
    "collapsed": true
   },
   "outputs": [],
   "source": [
    "data_path='/home/pankaj/Documents/Ashruf/data/'\n",
    "pkl_path=data_path + 'pickles/'"
   ]
  },
  {
   "cell_type": "code",
   "execution_count": 5,
   "metadata": {
    "collapsed": true
   },
   "outputs": [],
   "source": [
    "df_cleaned={}\n",
    "df_cost={}\n",
    "df_cost_geom={}\n",
    "df_capacity={}\n",
    "df_interval={}\n",
    "\n",
    "id_max={'2010':{},'2011':{},'2012':{}}\n",
    "id_min={'2010':{},'2011':{},'2012':{}}\n",
    "\n",
    "Max_Capacity_Night={'2010':{},'2011':{},'2012':{}}\n",
    "Min_Capacity_Day={'2010':{},'2011':{},'2012':{}}"
   ]
  },
  {
   "cell_type": "code",
   "execution_count": null,
   "metadata": {
    "collapsed": true
   },
   "outputs": [],
   "source": [
    "for consum_id in range(1,301):\n",
    "\n",
    "    pkl_name='df_cleaned_%d.pklz' %consum_id\n",
    "    df_cleaned[consum_id]=from_pklz(pkl_path,pkl_name)\n",
    "\n",
    "    pkl_name='df_cost_%d.pklz' %consum_id\n",
    "    df_cost[consum_id]=from_pklz(pkl_path,pkl_name)\n",
    "\n",
    "    pkl_name='df_cost_geom_%d.pklz' %consum_id\n",
    "    df_cost_geom[consum_id]=from_pklz(pkl_path,pkl_name)\n",
    "\n",
    "    df_capacity[consum_id]=calc_capacity(df_cleaned[consum_id],avg_consump)\n",
    "\n",
    "    df_interval[consum_id]=calc_night_interval(df_cleaned[consum_id])"
   ]
  },
  {
   "cell_type": "code",
   "execution_count": null,
   "metadata": {
    "collapsed": true
   },
   "outputs": [],
   "source": [
    "for consum_id in range(1,301):\n",
    "\n",
    "    pkl_name='df_cleaned_%d.pklz' %consum_id\n",
    "    df_cleaned[consum_id]=from_pklz(pkl_path,pkl_name)\n",
    "    df_interval[consum_id]=calc_night_interval(df_cleaned[consum_id])\n",
    "\n",
    "    df_capacity=from_pklz(pkl_path,'df_capacity.pklz')\n",
    "    \n",
    "    for key in Years:\n",
    "        id_max[key][consum_id]=df_capacity[consum_id][key]['Periodic Demand at Night'].idxmax()\n",
    "        id_min[key][consum_id]=df_capacity[consum_id][key]['Periodic Demand at Night'].idxmin()\n",
    "\n",
    "        Max_Capacity_Night[key][consum_id]= \\\n",
    "                    (df_capacity[consum_id][key]['Periodic Demand at Night'].loc[id_max[key][consum_id]] \\\n",
    "                        - avg_consump)*df_interval[consum_id][key]['Night intervals'].loc[id_max[key][consum_id]]\n",
    "\n",
    "        Min_Capacity_Day[key][consum_id]= \\\n",
    "                    -(df_capacity[consum_id][key]['Periodic Demand at Night'].loc[id_min[key][consum_id]] \\\n",
    "                             - avg_consump)*48"
   ]
  },
  {
   "cell_type": "code",
   "execution_count": null,
   "metadata": {
    "collapsed": true
   },
   "outputs": [],
   "source": [
    "df_Max_Capacity=pd.DataFrame(Max_Capacity_Night)\n",
    "df_Min_Capacity=pd.DataFrame(Min_Capacity_Day)\n",
    "\n",
    "pkl_name='df_max_capacity.pklz'\n",
    "to_pklz(df_Max_Capacity,pkl_path,pkl_name)\n",
    "\n",
    "pkl_name='df_min_capacity.pklz'\n",
    "to_pklz(df_Min_Capacity,pkl_path,pkl_name)"
   ]
  },
  {
   "cell_type": "code",
   "execution_count": null,
   "metadata": {
    "collapsed": true
   },
   "outputs": [],
   "source": [
    "pkl_name='df_capacity.pklz'\n",
    "to_pklz(df_capacity,pkl_path,pkl_name)"
   ]
  },
  {
   "cell_type": "code",
   "execution_count": 13,
   "metadata": {
    "collapsed": true
   },
   "outputs": [],
   "source": [
    "df_capacity=from_pklz(pkl_path,'df_capacity.pklz')"
   ]
  },
  {
   "cell_type": "code",
   "execution_count": 26,
   "metadata": {
    "collapsed": true
   },
   "outputs": [],
   "source": [
    "for consum_id in range(1,301):\n",
    "    pkl_name='df_cost_geom_%d.pklz' %consum_id\n",
    "    df_cost_geom[consum_id]=from_pklz(pkl_path,pkl_name)\n",
    "\n",
    "    pkl_name='df_cost_%d.pklz' %consum_id\n",
    "    df_cost[consum_id]=from_pklz(pkl_path,pkl_name)"
   ]
  },
  {
   "cell_type": "code",
   "execution_count": 14,
   "metadata": {
    "collapsed": true
   },
   "outputs": [],
   "source": [
    "df_Consump={'2010':{},'2011':{},'2012':{}}\n",
    "df1={}\n",
    "df2={}\n",
    "df3={}\n",
    "for i in range(1,301):\n",
    "    df1[i]=df_capacity[i]['2010'].iloc[:,0]\n",
    "    df2[i]=df_capacity[i]['2011'].iloc[:,0]\n",
    "    df3[i]=df_capacity[i]['2012'].iloc[:,0]    \n",
    "    \n",
    "df_Consump['2010']=pd.DataFrame(df1)    \n",
    "df_Consump['2011']=pd.DataFrame(df2)    \n",
    "df_Consump['2012']=pd.DataFrame(df3)    "
   ]
  },
  {
   "cell_type": "code",
   "execution_count": 15,
   "metadata": {
    "collapsed": true
   },
   "outputs": [],
   "source": [
    "l1=df_Consump['2010'].sum()\n",
    "l1.rename('2010',inplace=True)\n",
    "l2=df_Consump['2011'].sum()\n",
    "l2.rename('2011',inplace=True)\n",
    "l3=df_Consump['2012'].sum()\n",
    "l3.rename('2012',inplace=True)\n",
    "df_Total = pd.concat([l1,l2,l3], axis=1)"
   ]
  },
  {
   "cell_type": "code",
   "execution_count": 110,
   "metadata": {
    "collapsed": true
   },
   "outputs": [],
   "source": [
    "tot1={}\n",
    "tot2={}\n",
    "tot3={}\n",
    "for i in range(1,301):\n",
    "    tot1[i] =df_cost[i]['2010'].sum().sum()\n",
    "    tot2[i] =df_cost[i]['2011'].sum().sum()\n",
    "    tot3[i] =df_cost[i]['2012'].sum().sum()\n",
    "\n",
    "df_Total_Cost=pd.DataFrame({'2010':tot1,'2011':tot2,'2012':tot3})"
   ]
  },
  {
   "cell_type": "code",
   "execution_count": 24,
   "metadata": {
    "collapsed": true
   },
   "outputs": [],
   "source": [
    "c='Total_Consumption'\n",
    "columns=[(c,'2010'),(c,'2011'),(c,'2012')]\n",
    "df_Total.columns=pd.MultiIndex.from_tuples(columns)"
   ]
  },
  {
   "cell_type": "code",
   "execution_count": 23,
   "metadata": {
    "collapsed": true
   },
   "outputs": [],
   "source": [
    "c='Charging Capacity'\n",
    "columns=[(c,'2010'),(c,'2011'),(c,'2012')]\n",
    "df_Max_Capacity.columns=pd.MultiIndex.from_tuples(columns)"
   ]
  },
  {
   "cell_type": "code",
   "execution_count": 22,
   "metadata": {
    "collapsed": true
   },
   "outputs": [],
   "source": [
    "c='Discharging Capacity'\n",
    "columns=[(c,'2010'),(c,'2011'),(c,'2012')]\n",
    "df_Min_Capacity.columns=pd.MultiIndex.from_tuples(columns)"
   ]
  },
  {
   "cell_type": "code",
   "execution_count": 112,
   "metadata": {
    "collapsed": true
   },
   "outputs": [],
   "source": [
    "c='Total_Consumption Cost'\n",
    "columns=[(c,'2010'),(c,'2011'),(c,'2012')]\n",
    "df_Total_Cost.columns=pd.MultiIndex.from_tuples(columns)"
   ]
  },
  {
   "cell_type": "code",
   "execution_count": 113,
   "metadata": {
    "collapsed": true
   },
   "outputs": [],
   "source": [
    "l1=[df_Total,df_Total_Cost,df_Max_Capacity,df_Min_Capacity]\n",
    "df_Final=pd.concat(l1,axis=1)\n",
    "df_Final=df_Final.applymap(lambda x: \"{0:.2f}\".format(x))"
   ]
  },
  {
   "cell_type": "code",
   "execution_count": 123,
   "metadata": {
    "collapsed": true
   },
   "outputs": [],
   "source": [
    "#print(df_Final.to_latex())"
   ]
  },
  {
   "cell_type": "code",
   "execution_count": 127,
   "metadata": {
    "collapsed": true,
    "scrolled": false
   },
   "outputs": [],
   "source": [
    "df_Final.to_csv('Final.csv')"
   ]
  }
 ],
 "metadata": {
  "kernelspec": {
   "display_name": "Python 3",
   "language": "python",
   "name": "python3"
  },
  "language_info": {
   "codemirror_mode": {
    "name": "ipython",
    "version": 3
   },
   "file_extension": ".py",
   "mimetype": "text/x-python",
   "name": "python",
   "nbconvert_exporter": "python",
   "pygments_lexer": "ipython3",
   "version": "3.5.2"
  }
 },
 "nbformat": 4,
 "nbformat_minor": 2
}

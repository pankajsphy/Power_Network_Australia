{
 "cells": [
  {
   "cell_type": "markdown",
   "metadata": {},
   "source": [
    "## This notebook is for plotting the figures by importing the pickles generated and saved in Analysis notebook.\n",
    "\n",
    "Three different types of figures are produced. These plots are saved in the plots folder.\n",
    "\n",
    "1. Mean Consumption for six sample of houses out of 300 houses. For the purpose of illustration, House No. 1, 50, 100, 200, 250 and 300 are chosen. Mean consumption are obtained for each month and is plotted against the various half-hourly periods through out the day\n",
    "\n",
    "2. Secondly, we present the consumption losses in each month for calender years 2010-2011, 2011-2012 and 2012-2013. These consumption losses are plotted against half-hourly period as was done while presenting consumption.\n",
    "\n",
    "3. Finally, we display the total consumption losses in each month for calender years 2010-2011, 2011-2012 and 2012-2013. Here the total losses are displayed in gouped bar-charts, each bar in the group represents each calender year. We have presented the total consumption losses according to both the hypothesis we discussed in the report."
   ]
  },
  {
   "cell_type": "code",
   "execution_count": null,
   "metadata": {},
   "outputs": [],
   "source": [
    "import pandas as pd\n",
    "import numpy as np\n",
    "import plotly\n",
    "import plotly.plotly as py\n",
    "import plotly.graph_objs as go\n",
    "from plotly import tools\n",
    "import pickle\n",
    "import gzip\n",
    "\n",
    "#import cufflinks as cf\n",
    "apikey = open('/home/pankaj/Documents/Ashruf/plotlyapikey.txt','r').read()\n",
    "\n",
    "plotly.offline.init_notebook_mode() # run at the start of every notebook\n",
    "#plotly.tools.set_credentials_file(username='pankajs.phy', api_key=apikey)\n",
    "#plotly.tools.set_config_file(world_readable=True)"
   ]
  },
  {
   "cell_type": "markdown",
   "metadata": {},
   "source": [
    "### Importing the various functions from helper folder for calculating consumption and consumption losses. Also being imprted is the module containing various plotting functions."
   ]
  },
  {
   "cell_type": "code",
   "execution_count": null,
   "metadata": {
    "collapsed": true
   },
   "outputs": [],
   "source": [
    "from helper.calc import *\n",
    "from helper.plot_plotly import *\n",
    "from helper.data_processing import *\n",
    "from helper.calc import *\n",
    "\n",
    "pkl_path='/home/pankaj/Documents/Ashruf/data/pickles/'   # path to the saved pickles which are generated \n",
    "                                                         # from Analysis.iypnb notebook"
   ]
  },
  {
   "cell_type": "markdown",
   "metadata": {},
   "source": [
    "#### Here, total consumption is being calculated and then plotted using 'plot_multi() function for 6 different consumers. The rsulting plots are then saved to plots folder'"
   ]
  },
  {
   "cell_type": "code",
   "execution_count": null,
   "metadata": {
    "scrolled": false
   },
   "outputs": [],
   "source": [
    "for consum_id in [1,50,100,200,250,300]:\n",
    "    pkl_name='df_cleaned_%d.pklz' %consum_id\n",
    "    df_cleaned=from_pklz(pkl_path,pkl_name)\n",
    "    df_consump=calc_consump(df_cleaned)\n",
    "\n",
    "    Title='Mean Consumption (in kWh) across a financial year for Consumer %d' %consum_id\n",
    "    Figname='/home/pankaj/Dropbox/Documents/Power_Network_Australia/plots/Consumption_%d.png' %consum_id\n",
    "    plot_multi(df_consump,Title,Figname)"
   ]
  },
  {
   "cell_type": "markdown",
   "metadata": {},
   "source": [
    "\n",
    "![Mean Power Consumption vs half-hourly periods for various months of year for Consumer 1](files/plots/Mean_Consumption/Consumption_1.png)\n",
    "![Mean Power Consumption vs half-hourly periods for various months of year for Consumer 50](files/plots/Mean_Consumption/Consumption_50.png)\n",
    "![Mean Power Consumption vs half-hourly periods for various months of year for Consumer 100](files/plots/Mean_Consumption/Consumption_100.png)\n",
    "![Mean Power Consumption vs half-hourly periods for various months of year for Consumer 200](files/plots/Mean_Consumption/Consumption_200.png)\n",
    "![Mean Power Consumption vs half-hourly periods for various months of year for Consumer 250](files/plots/Mean_Consumption/Consumption_250.png)\n",
    "![Mean Power Consumption vs half-hourly periods for various months of year for Consumer 300](files/plots/Mean_Consumption/Consumption_300.png)"
   ]
  },
  {
   "cell_type": "markdown",
   "metadata": {},
   "source": [
    "### Here we import the saved dataframes for consumption cost (losses) from saved pickles. Then using the function 'plot_multi()', we plot these losses for various calender years as a function of half-hourly period for each month in the calendar year."
   ]
  },
  {
   "cell_type": "code",
   "execution_count": null,
   "metadata": {
    "scrolled": true
   },
   "outputs": [],
   "source": [
    "for consum_id in [1,50,100,200,250,300]:\n",
    "    pkl_name_1='df_cost_geom_%d.pklz' %consum_id\n",
    "    pkl_name_2='df_cost_%d.pklz' %consum_id\n",
    "    df_cost_geom = from_pklz(pkl_path,pkl_name_1)\n",
    "    df_cost = from_pklz(pkl_path,pkl_name_2)\n",
    "\n",
    "    Title='Mean Consumption Losses(in cents) across a financial year for Consumer %d.png' %consum_id\n",
    "    Figname='/home/pankaj/Dropbox/Documents/Power_Network_Australia/plots/Consumption_Loss_%d.png' %consum_id\n",
    "    plot_multi(df_cost,Title,Figname)"
   ]
  },
  {
   "cell_type": "markdown",
   "metadata": {},
   "source": [
    "![Mean Power Consumption Losses vs half-hourly periods for various months of year for Consumer 1](files/plots/Mean_Cost/Consumption_Loss_1.png)\n",
    "![Mean Power Consumption Losses vs half-hourly periods for various months of year for Consumer 50](files/plots/Mean_Cost/Consumption_Loss_50.png)\n",
    "![Mean Power Consumption Losses vs half-hourly periods for various months of year for Consumer 100](files/plots/Mean_Cost/Consumption_Loss_100.png)\n",
    "![Mean Power Consumption Losses vs half-hourly periods for various months of year for Consumer 200](files/plots/Mean_Cost/Consumption_Loss_200.png)\n",
    "![Mean Power Consumption Losses vs half-hourly periods for various months of year for Consumer 250](files/plots/Mean_Cost/Consumption_Loss_250.png)\n",
    "![Mean Power Consumption Losses vs half-hourly periods for various months of year for Consumer 300](files/plots/Mean_Cost/Consumption_Loss_300.png)\n"
   ]
  },
  {
   "cell_type": "markdown",
   "metadata": {},
   "source": [
    "### Here we import the saved dataframes for consumption cost (losses) from saved pickles using hypothesis 1. Then using the function 'plot_bar_group', we plot these losses for various calender years for each month in the calendar year. The toal consumption losses are plotted in the form of grouped bars with each bar corresponding to each calendar year."
   ]
  },
  {
   "cell_type": "code",
   "execution_count": null,
   "metadata": {},
   "outputs": [],
   "source": [
    "for consum_id in [250,200]:\n",
    "    pkl_name='df_cost_%d.pklz' %consum_id\n",
    "    df_cost = from_pklz(pkl_path,pkl_name)\n",
    "\n",
    "    Trace1 = go.Bar(x = Months, y= list(df_cost['2010'].sum(axis=1).resample('M').sum()/100.0), \n",
    "                    marker=dict(color='rgb( 49,130,189)'),name='2010-2011' )\n",
    "\n",
    "    Trace2 = go.Bar(x = Months, y= list(df_cost['2011'].sum(axis=1).resample('M').sum()/100.0), \n",
    "                    marker=dict(color='rgb(204,204,204)'),name='2011-2012' )\n",
    "\n",
    "    Trace3 = go.Bar(x = Months, y= list(df_cost['2012'].sum(axis=1).resample('M').sum()/100.0), \n",
    "                    marker=dict(color='rgb(55, 83, 109)'),name='2012-2013' )\n",
    "\n",
    "    data = [Trace1, Trace2, Trace3]\n",
    "    figname='./plots/Mean_Cost/Total_cost_Bar_%d.png' %consum_id\n",
    "    plot_bar_group(data,figname)"
   ]
  },
  {
   "cell_type": "markdown",
   "metadata": {},
   "source": [
    "![Total Power Consumption Losses for various months of year for Consumer 1](files/plots/Mean_Cost/Total_cost_Bar_1.png)\n",
    "![Total Power Consumption Losses for various months of year for Consumer 50](files/plots/Mean_Cost/Total_cost_Bar_50.png)\n",
    "![Total Power Consumption Losses for various months of year for Consumer 100](files/plots/Mean_Cost/Total_cost_Bar_100.png)\n",
    "![Total Power Consumption Losses for various months of year for Consumer 200](files/plots/Mean_Cost/Total_cost_Bar_200.png)\n",
    "![Total Power Consumption Losses for various months of year for Consumer 250](files/plots/Mean_Cost/Total_cost_Bar_250.png)\n",
    "![Total Power Consumption Losses for various months of year for Consumer 300](files/plots/Mean_Cost/Total_cost_Bar_300.png)\n"
   ]
  },
  {
   "cell_type": "markdown",
   "metadata": {},
   "source": [
    "### Here we import the saved dataframes for consumption cost (losses) from saved pickles using hypothesis 2. Then using the function 'plot_bar_group', we plot these losses for various calender years for each month in the calendar year. The toal consumption losses are plotted in the form of grouped bars with each bar corresponding to each calendar year."
   ]
  },
  {
   "cell_type": "code",
   "execution_count": null,
   "metadata": {},
   "outputs": [],
   "source": [
    "for consum_id in [1]:\n",
    "    pkl_name='df_cost_geom_%d.pklz' %consum_id\n",
    "    df_cost_geom = from_pklz(pkl_path,pkl_name)\n",
    "\n",
    "    Trace1 = go.Bar(x = Months, y= list(df_cost_geom['2010'].sum(axis=1).resample('M').sum()/100.0), \n",
    "                    marker=dict(color='rgb( 49,130,189)'),name='2010-2011' )\n",
    "\n",
    "    Trace2 = go.Bar(x = Months, y= list(df_cost_geom['2011'].sum(axis=1).resample('M').sum()/100.0), \n",
    "                    marker=dict(color='rgb(204,204,204)'),name='2011-2012' )\n",
    "\n",
    "    Trace3 = go.Bar(x = Months, y= list(df_cost_geom['2012'].sum(axis=1).resample('M').sum()/100.0), \n",
    "                    marker=dict(color='rgb(55, 83, 109)'),name='2012-2013' )\n",
    "\n",
    "    data = [Trace1, Trace2, Trace3]\n",
    "    figname='./plots/Mean_Cost/Total_cost_geom_Bar_%d.png' %consum_id\n",
    "    plot_bar_group(data,figname)"
   ]
  },
  {
   "cell_type": "markdown",
   "metadata": {},
   "source": [
    "![Total Power Consumption Losses for various months of year for Consumer 1](files/plots/Mean_Cost/Total_cost_geom_Bar_1.png)\n",
    "![Total Power Consumption Losses for various months of year for Consumer 50](files/plots/Mean_Cost/Total_cost_geom_Bar_50.png)\n",
    "![Total Power Consumption Losses for various months of year for Consumer 100](files/plots/Mean_Cost/Total_cost_geom_Bar_100.png)\n",
    "![Total Power Consumption Losses for various months of year for Consumer 200](files/plots/Mean_Cost/Total_cost_geom_Bar_200.png)\n",
    "![Total Power Consumption Losses for various months of year for Consumer 250](files/plots/Mean_Cost/Total_cost_geom_Bar_250.png)\n",
    "![Total Power Consumption Losses for various months of year for Consumer 300](files/plots/Mean_Cost/Total_cost_geom_Bar_300.png)\n"
   ]
  },
  {
   "cell_type": "code",
   "execution_count": null,
   "metadata": {
    "collapsed": true
   },
   "outputs": [],
   "source": []
  }
 ],
 "metadata": {
  "kernelspec": {
   "display_name": "Python 3",
   "language": "python",
   "name": "python3"
  },
  "language_info": {
   "codemirror_mode": {
    "name": "ipython",
    "version": 3
   },
   "file_extension": ".py",
   "mimetype": "text/x-python",
   "name": "python",
   "nbconvert_exporter": "python",
   "pygments_lexer": "ipython3",
   "version": "3.5.2"
  }
 },
 "nbformat": 4,
 "nbformat_minor": 2
}

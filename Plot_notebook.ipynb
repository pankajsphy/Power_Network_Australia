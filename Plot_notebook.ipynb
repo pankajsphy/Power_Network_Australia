{
 "cells": [
  {
   "cell_type": "code",
   "execution_count": null,
   "metadata": {
    "collapsed": true
   },
   "outputs": [],
   "source": [
    "import pandas as pd\n",
    "import numpy as np\n",
    "import datetime\n",
    "import plotly\n",
    "import plotly.plotly as py\n",
    "import plotly.graph_objs as go\n",
    "from plotly import tools\n",
    "from helper.calc import *\n",
    "import copy\n",
    "from helper.plot_plotly import *\n",
    "\n",
    "#import cufflinks as cf\n",
    "apikey = open('/home/pankaj/Documents/Ashruf/plotlyapikey.txt','r').read()\n",
    "\n",
    "plotly.offline.init_notebook_mode() # run at the start of every notebook\n",
    "#plotly.tools.set_credentials_file(username='pankajs.phy', api_key=apikey)\n",
    "#plotly.tools.set_config_file(world_readable=True)"
   ]
  },
  {
   "cell_type": "code",
   "execution_count": null,
   "metadata": {
    "collapsed": true
   },
   "outputs": [],
   "source": [
    "ytitle = 'Mean power consumption'\n",
    "month = 'December'\n",
    "figname = './plots/Mean_Losses_%s.png' %month\n",
    "#plot_shaded(df_vol_dschg,month,ytitle,figname)"
   ]
  },
  {
   "cell_type": "code",
   "execution_count": null,
   "metadata": {
    "collapsed": true
   },
   "outputs": [],
   "source": [
    "Title='Mean variation of discharge volume across a financial year 2010-2011'\n",
    "#plot_multiplot(df_vol_dschg,Title)"
   ]
  },
  {
   "cell_type": "code",
   "execution_count": null,
   "metadata": {
    "collapsed": true
   },
   "outputs": [],
   "source": [
    "colors=['rgb(51,153,255)','rgb(221,53,15)','rgb(2,73,13)']\n",
    "lab=['2010-2011','2011-2012','2012-2013']\n",
    "\n",
    "for month_id in range(len(Months)):\n",
    "    df_mean={}\n",
    "    trace2={}\n",
    "    data=[]\n",
    "    for i,key in enumerate(Years):\n",
    "        df_mean[key] = Monthly_mean_cost_geom[key].transpose()\n",
    "        x = df_mean[key].index;\n",
    "        trace2[key] = go.Scatter(\n",
    "            x=x,\n",
    "            y=df_mean[key].iloc[:,month_id],\n",
    "            line=go.Line(color=colors[i]),\n",
    "            mode='lines',\n",
    "            showlegend=True,\n",
    "            name=lab[i],\n",
    "        )\n",
    "        data.extend([trace2[key]] )\n",
    "    figname = './plots/Mean_Cost_Geom%s.png' %Months[month_id]\n",
    "    ytitle = 'Mean power cost_geom'\n",
    "#    plot_shad(data,ytitle,figname,Months[month_id])"
   ]
  },
  {
   "cell_type": "code",
   "execution_count": null,
   "metadata": {
    "collapsed": true
   },
   "outputs": [],
   "source": [
    "Fig = ['Total_Cost','Total_Cost_Geom','Consumption']\n",
    "\n",
    "for entry in Fig:\n",
    "    Trace1 = go.Bar(x = Months, y= list(Total['2010'][entry]), \n",
    "                    marker=dict(\n",
    "                        color='rgb(49,130,189)'),\n",
    "                    name='2010-2011'\n",
    "                   )\n",
    "\n",
    "    Trace2 = go.Bar(x = Months, y= list(Total['2011'][entry]), \n",
    "                    marker=dict(\n",
    "                        color='rgb(204,204,204)'),\n",
    "                    name='2011-2012'\n",
    "                   )\n",
    "\n",
    "    Trace3 = go.Bar(x = Months, y= list(Total['2012'][entry]), \n",
    "                    marker=dict(\n",
    "                        color='rgb(55, 83, 109)'),\n",
    "                    name='2012-2013'\n",
    "                   )\n",
    "\n",
    "    data = [Trace1, Trace2, Trace3]\n",
    "    figname='./plots/%s_Bar.png' %entry\n",
    "#    plot_bar_group(data,figname)"
   ]
  }
 ],
 "metadata": {
  "kernelspec": {
   "display_name": "Python 3",
   "language": "python",
   "name": "python3"
  },
  "language_info": {
   "codemirror_mode": {
    "name": "ipython",
    "version": 3
   },
   "file_extension": ".py",
   "mimetype": "text/x-python",
   "name": "python",
   "nbconvert_exporter": "python",
   "pygments_lexer": "ipython3",
   "version": "3.5.2"
  }
 },
 "nbformat": 4,
 "nbformat_minor": 2
}
